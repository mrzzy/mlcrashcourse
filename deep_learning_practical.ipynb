{
 "cells": [
  {
   "cell_type": "markdown",
   "metadata": {},
   "source": [
    "# mlcrashcourse - Deep Learning Practical\n",
    "\n",
    "In this practical, we explore the use of a neural network for convolution.  "
   ]
  },
  {
   "cell_type": "markdown",
   "metadata": {},
   "source": [
    "## Imports"
   ]
  },
  {
   "cell_type": "code",
   "execution_count": 5,
   "metadata": {},
   "outputs": [
    {
     "name": "stdout",
     "output_type": "stream",
     "text": [
      "The autoreload extension is already loaded. To reload it, use:\n",
      "  %reload_ext autoreload\n"
     ]
    }
   ],
   "source": [
    "import numpy as np\n",
    "import pandas as pd\n",
    "import matplotlib.pyplot as plt\n",
    "\n",
    "from random import randint\n",
    "from sklearn.preprocessing import StandardScaler, OneHotEncoder\n",
    "from sklearn.metrics import accuracy_score\n",
    "from tensorflow.keras.datasets import fashion_mnist\n",
    "\n",
    "import tensorflow.keras.backend as K\n",
    "from tensorflow.keras.models import Sequential\n",
    "from tensorflow.keras.layers import (InputLayer, Dense, BatchNormalization, Dense, Dropout, \n",
    "                                     Conv2D, Flatten, MaxPool2D)\n",
    "from tensorflow.keras.metrics import categorical_accuracy, categorical_crossentropy\n",
    "from tensorflow.keras.optimizers import Adam\n",
    "\n",
    "%load_ext autoreload\n",
    "%autoreload 2\n",
    "%matplotlib inline"
   ]
  },
  {
   "cell_type": "markdown",
   "metadata": {},
   "source": [
    "## Defining the problem\n",
    "\n",
    "Link to dataset: https://www.kaggle.com/zalando-research/fashionmnist\n",
    "\n",
    "In this practical we will be using the **Fashion MNIST** dataset. The task is to classify the image into the following different fashion classes/labels.\n",
    "\n",
    "> Basically, given an image of a boot, the model should be able to tell me that that is a boot.\n",
    "\n",
    "| No. Label | Text Label |\n",
    "| --- | --- |\n",
    "| 0 | T-shirt/top |\n",
    "| 1 | Trouser |\n",
    "| 2 | Pullover |\n",
    "| 3 | Dress |\n",
    "| 4 | Coat |\n",
    "| 5 | Sandal |\n",
    "| 6 | Shirt |\n",
    "| 7 | Sneaker |\n",
    "| 8 | Bag |\n",
    "| 9 | Ankle boot |\n",
    "\n",
    "\n",
    "This is a supervised problem because there is an expected output we want to obtain from the model."
   ]
  },
  {
   "cell_type": "markdown",
   "metadata": {},
   "source": [
    "## Load the Data\n",
    "Now we proceed with loading the data.\n",
    "Thankfully, Keras provides use with a simple way to access the data. Most of work is already done for us by Keras:\n",
    "\n",
    "1. Reading the images into numpy arrays\n",
    "2. Converting the labels into integers\n",
    "3. Splitting the dataset into train and test sets for model evaluation later"
   ]
  },
  {
   "cell_type": "code",
   "execution_count": 12,
   "metadata": {},
   "outputs": [
    {
     "name": "stdout",
     "output_type": "stream",
     "text": [
      "60000 training examples, 10000 test examples\n"
     ]
    }
   ],
   "source": [
    "label_map = {\n",
    "    0: \"T-shirt/top\",\n",
    "    1: \"Trouser\",\n",
    "    2: \"Pullover\",\n",
    "    3: \"Dress\",\n",
    "    4: \"Coat\",\n",
    "    5: \"Sandal\",\n",
    "    6: \"Shirt\",\n",
    "    7: \"Sneaker\",\n",
    "    8: \"Bag\",\n",
    "    9: \"Ankle boot\"\n",
    "}\n",
    "\n",
    "# load the data using keras datasets\n",
    "(train_images, train_labels), (test_images, test_labels) = fashion_mnist.load_data()\n",
    "print(f\"{len(train_images)} training examples, {len(test_images)} test examples\")"
   ]
  },
  {
   "cell_type": "markdown",
   "metadata": {},
   "source": [
    "Take a look at a random image and its label"
   ]
  },
  {
   "cell_type": "code",
   "execution_count": 13,
   "metadata": {},
   "outputs": [
    {
     "name": "stdout",
     "output_type": "stream",
     "text": [
      "This is a: Pullover\n"
     ]
    },
    {
     "data": {
      "text/plain": [
       "<matplotlib.image.AxesImage at 0x1250f19b0>"
      ]
     },
     "execution_count": 13,
     "metadata": {},
     "output_type": "execute_result"
    },
    {
     "data": {
      "image/png": "[encoded data removed]",
      "text/plain": [
       "<Figure size 432x288 with 1 Axes>"
      ]
     },
     "metadata": {
      "needs_background": "light"
     },
     "output_type": "display_data"
    }
   ],
   "source": [
    "idx = randint(0, len(train_images))\n",
    "image = train_images[idx]\n",
    "label_i = train_labels[idx]\n",
    "print(\"This is a:\", label_map[label_i])\n",
    "plt.imshow(image, cmap='gray')"
   ]
  },
  {
   "cell_type": "markdown",
   "metadata": {},
   "source": [
    "## Prepare the data\n",
    "Neural Networks are fussy with the data that they take in, so we need to do some preprocessing:\n",
    "1. Apply Feature Scaling to the images\n",
    "2. One hot encode the labels\n",
    "\n",
    "sha shi hot encode???\n",
    "sha shi feature scaling???\n",
    "\n",
    "### Feature Scaling"
   ]
  },
  {
   "cell_type": "code",
   "execution_count": 15,
   "metadata": {},
   "outputs": [
    {
     "name": "stderr",
     "output_type": "stream",
     "text": [
      "/Users/joeltio/miniconda3/envs/ml/lib/python3.6/site-packages/sklearn/utils/validation.py:595: DataConversionWarning: Data with input dtype uint8 was converted to float64 by StandardScaler.\n",
      "  warnings.warn(msg, DataConversionWarning)\n",
      "/Users/joeltio/miniconda3/envs/ml/lib/python3.6/site-packages/sklearn/utils/validation.py:595: DataConversionWarning: Data with input dtype uint8 was converted to float64 by StandardScaler.\n",
      "  warnings.warn(msg, DataConversionWarning)\n",
      "/Users/joeltio/miniconda3/envs/ml/lib/python3.6/site-packages/sklearn/utils/validation.py:595: DataConversionWarning: Data with input dtype uint8 was converted to float64 by StandardScaler.\n",
      "  warnings.warn(msg, DataConversionWarning)\n"
     ]
    }
   ],
   "source": [
    "# Perform feature scaling with standard scaler ## confusing???\n",
    "# np.reshape() is needed to ensure that the np arrays have the correct shape\n",
    "n_images = len(train_images)\n",
    "scaler = StandardScaler()\n",
    "flat_train_images = np.reshape(train_images, (n_images, -1))\n",
    "\n",
    "# we need to tell the scaler about what data it will be dealing with\n",
    "scaler.fit(flat_train_images)\n",
    "\n",
    "# Define a function to scale features\n",
    "def scale_features(images):\n",
    "    flat_images = np.reshape(images, (len(images), -1))\n",
    "    flat_features = scaler.transform(flat_images)\n",
    "    features = np.reshape(flat_features, (len(images), 28, 28, 1))\n",
    "    return features \n",
    "\n",
    "# Scale both train and test images\n",
    "train_features = scale_features(train_images)\n",
    "test_features = scale_features(test_images)"
   ]
  },
  {
   "cell_type": "markdown",
   "metadata": {},
   "source": [
    "Before:"
   ]
  },
  {
   "cell_type": "code",
   "execution_count": 16,
   "metadata": {},
   "outputs": [
    {
     "data": {
      "text/plain": [
       "<matplotlib.image.AxesImage at 0x1286cbb38>"
      ]
     },
     "execution_count": 16,
     "metadata": {},
     "output_type": "execute_result"
    },
    {
     "data": {
      "image/png": "[encoded data removed]",
      "text/plain": [
       "<Figure size 432x288 with 1 Axes>"
      ]
     },
     "metadata": {
      "needs_background": "light"
     },
     "output_type": "display_data"
    }
   ],
   "source": [
    "plt.imshow(train_images[idx], cmap='gray')"
   ]
  },
  {
   "cell_type": "markdown",
   "metadata": {},
   "source": [
    "After scaling:"
   ]
  },
  {
   "cell_type": "code",
   "execution_count": 17,
   "metadata": {},
   "outputs": [
    {
     "data": {
      "text/plain": [
       "<matplotlib.image.AxesImage at 0x1227b32b0>"
      ]
     },
     "execution_count": 17,
     "metadata": {},
     "output_type": "execute_result"
    },
    {
     "data": {
      "image/png": "[encoded data removed]",
      "text/plain": [
       "<Figure size 432x288 with 1 Axes>"
      ]
     },
     "metadata": {
      "needs_background": "light"
     },
     "output_type": "display_data"
    }
   ],
   "source": [
    "plt.imshow(train_features[idx].reshape(28, 28), cmap='gray')"
   ]
  },
  {
   "cell_type": "markdown",
   "metadata": {},
   "source": [
    "### One Hot Encoding"
   ]
  },
  {
   "cell_type": "code",
   "execution_count": 56,
   "metadata": {},
   "outputs": [
    {
     "name": "stderr",
     "output_type": "stream",
     "text": [
      "/home/zzy/.conda/envs/ml/lib/python3.7/site-packages/sklearn/preprocessing/_encoders.py:371: FutureWarning: The handling of integer data will change in version 0.22. Currently, the categories are determined based on the range [0, max(values)], while in the future they will be determined based on the unique values.\n",
      "If you want the future behaviour and silence this warning, you can specify \"categories='auto'\".\n",
      "In case you used a LabelEncoder before this OneHotEncoder to convert the categories to integers, then you can now use the OneHotEncoder directly.\n",
      "  warnings.warn(msg, FutureWarning)\n"
     ]
    }
   ],
   "source": [
    "# we need to tell the encoder about what data it will be dealing with\n",
    "encoder = OneHotEncoder()\n",
    "encoder.fit(np.reshape(train_labels, (len(train_labels), 1)))\n",
    "\n",
    "# convert labels into one hot encoding\n",
    "def encode_labels(labels):\n",
    "    labels = np.reshape(labels, (len(labels), 1))\n",
    "    features = encoder.transform(labels)\n",
    "    return features\n",
    "                        \n",
    "train_one_hot_labels = encode_labels(train_labels)\n",
    "test_one_hot_labels = encode_labels(test_labels)"
   ]
  },
  {
   "cell_type": "markdown",
   "metadata": {},
   "source": [
    "Before:"
   ]
  },
  {
   "cell_type": "code",
   "execution_count": 61,
   "metadata": {},
   "outputs": [
    {
     "data": {
      "text/plain": [
       "9"
      ]
     },
     "execution_count": 61,
     "metadata": {},
     "output_type": "execute_result"
    }
   ],
   "source": [
    "train_labels[idx]"
   ]
  },
  {
   "cell_type": "markdown",
   "metadata": {},
   "source": [
    "After encoding:"
   ]
  },
  {
   "cell_type": "code",
   "execution_count": 63,
   "metadata": {},
   "outputs": [
    {
     "data": {
      "text/plain": [
       "array([[0., 0., 0., 0., 0., 0., 0., 0., 0., 1.]])"
      ]
     },
     "execution_count": 63,
     "metadata": {},
     "output_type": "execute_result"
    }
   ],
   "source": [
    "train_one_hot_labels[idx].toarray()"
   ]
  },
  {
   "cell_type": "markdown",
   "metadata": {},
   "source": [
    "### Building the Model\n",
    "Now we build the Neural Network model that we will train to classify fashion images.\n",
    "\n",
    "A function that adds a convolution block to your model is provided so you don't have to worry about that:"
   ]
  },
  {
   "cell_type": "code",
   "execution_count": 68,
   "metadata": {},
   "outputs": [],
   "source": [
    "# Add a convolution block to the given sequential model if enabled\n",
    "# layers specify how many convolution layers to use\n",
    "# the scale parameter allows us to scale up the convolution layers\n",
    "def add_conv_block(model, layers, scale, dropout=0.2):\n",
    "        for n_base_filters in range(2, layers * 2 + 1, 2):\n",
    "            model.add(Conv2D(int(n_base_filters * scale), (3, 3),\n",
    "                             padding=\"same\",activation=\"relu\"))\n",
    "            model.add(Conv2D(int(n_base_filters * scale), (3, 3),\n",
    "                             padding=\"same\",activation=\"relu\"))\n",
    "            model.add(Conv2D(int(n_base_filters * scale), (3, 3), \n",
    "                             strides=(2,2), padding=\"same\",activation=\"relu\"))        \n",
    "            model.add(BatchNormalization())\n",
    "            model.add(Dropout(dropout))\n",
    "            \n",
    "        model.add(Flatten())"
   ]
  },
  {
   "cell_type": "markdown",
   "metadata": {},
   "source": [
    "\n",
    "Instead of directly building the model, we create a class that exposes its hyperparameters. This will make hyperparameters tuning later easier."
   ]
  },
  {
   "cell_type": "code",
   "execution_count": 69,
   "metadata": {},
   "outputs": [],
   "source": [
    "# Represents a neural network model\n",
    "class NNModel:\n",
    "    # Create a model with the given hyperparametersz\n",
    "    def __init__(self, \n",
    "                 n_layers,\n",
    "                 learning_rate,\n",
    "                 n_units=64,\n",
    "                 conv_blocks=0,\n",
    "                 conv_scale=0,\n",
    "                 display_summary=False):\n",
    "        \n",
    "        self.input_shape = (28, 28, 1)\n",
    "        self.n_units = n_units\n",
    "        self.n_layers = n_layers\n",
    "        self.learning_rate = learning_rate\n",
    "        self.conv_scale = conv_scale\n",
    "        self.conv_blocks = conv_blocks\n",
    "        \n",
    "        self.backend_model = self.build()\n",
    "        if display_summary: self.backend_model.summary()\n",
    "        \n",
    "    # Fit the model to the given data\n",
    "    # x - features, y - one hot encoded labels\n",
    "    def fit(self, train_x, train_y, valid_data, n_epochs, batch_size=64):\n",
    "        self.backend_model.fit(train_x, train_y,\n",
    "                               validation_data=valid_data,\n",
    "                               epochs=n_epochs,\n",
    "                               batch_size=batch_size)\n",
    "\n",
    "    # Generate predictions using the given features\n",
    "    def predict(self, input_x):\n",
    "        predict_probs = self.backend_model.predict(input_x, \n",
    "                                                 batch_size=64)\n",
    "        predictions = np.argmax(predict_probs, axis=-1)\n",
    "        return predictions\n",
    "    \n",
    "\n",
    "    # Build the model\n",
    "    def build(self):\n",
    "        K.clear_session()\n",
    "        \n",
    "        # Build model architecture\n",
    "        model = Sequential()\n",
    "        model.add(InputLayer(input_shape=self.input_shape))\n",
    "        # Convolution layers\n",
    "        add_conv_block(model, \n",
    "                       layers=self.conv_blocks,\n",
    "                       scale=self.conv_scale)\n",
    "        # Dense layers (The brain part)\n",
    "        for i in range(self.n_layers): \n",
    "            model.add(Dense(self.n_units, activation=\"relu\"))\n",
    "            \n",
    "        # Output layer - classfication 10 classes\n",
    "        model.add(Dense(10, activation=\"sigmoid\"))\n",
    "\n",
    "        # Build model\n",
    "        model.compile(optimizer=Adam(lr=self.learning_rate),\n",
    "                      loss=categorical_crossentropy,\n",
    "                      metrics=[categorical_accuracy])\n",
    "        \n",
    "        return model\n",
    "    \n",
    "    "
   ]
  },
  {
   "cell_type": "markdown",
   "metadata": {},
   "source": [
    "# Training the model\n",
    "Lets build a model with our model class and train it.\n",
    "As with most machine learning algorithms, there are hyperparameters to tune:\n",
    "\n",
    "| Hyperparameter | Description |\n",
    "| --- | --- |\n",
    "| n_layers | The number of dense/fully connnected layers to use in the model |\n",
    "| n_units | The number of neurons to use each  dense/fully connnected layers |\n",
    "| conv_blocks | The number of convolution blocks use in the model |\n",
    "| conv_scale | Sale\n",
    "\n",
    "We train for 3 epochs, which means that we tell the model to learn from the data by looking at all the data 3 times.\n",
    "> In real world, we train for way more epochs (30-200)\n"
   ]
  },
  {
   "cell_type": "code",
   "execution_count": 66,
   "metadata": {},
   "outputs": [
    {
     "name": "stdout",
     "output_type": "stream",
     "text": [
      "_________________________________________________________________\n",
      "Layer (type)                 Output Shape              Param #   \n",
      "=================================================================\n",
      "flatten (Flatten)            (None, 784)               0         \n",
      "_________________________________________________________________\n",
      "dense (Dense)                (None, 16)                12560     \n",
      "_________________________________________________________________\n",
      "dense_1 (Dense)              (None, 10)                170       \n",
      "=================================================================\n",
      "Total params: 12,730\n",
      "Trainable params: 12,730\n",
      "Non-trainable params: 0\n",
      "_________________________________________________________________\n"
     ]
    }
   ],
   "source": [
    "model = NNModel(n_layers=1,\n",
    "                n_units=16, \n",
    "                conv_blocks=0,\n",
    "                conv_scale=12,\n",
    "                learning_rate=3e-3, \n",
    "                display_summary=True)"
   ]
  },
  {
   "cell_type": "markdown",
   "metadata": {},
   "source": [
    "Train model on the training data"
   ]
  },
  {
   "cell_type": "code",
   "execution_count": 34,
   "metadata": {},
   "outputs": [
    {
     "name": "stdout",
     "output_type": "stream",
     "text": [
      "Train on 60000 samples, validate on 10000 samples\n",
      "Epoch 1/3\n",
      "60000/60000 [==============================] - 7s 123us/sample - loss: 0.5234 - categorical_accuracy: 0.8069 - val_loss: 0.4546 - val_categorical_accuracy: 0.8337\n",
      "Epoch 2/3\n",
      "60000/60000 [==============================] - 7s 122us/sample - loss: 0.3934 - categorical_accuracy: 0.8570 - val_loss: 0.4333 - val_categorical_accuracy: 0.8475\n",
      "Epoch 3/3\n",
      "60000/60000 [==============================] - 7s 121us/sample - loss: 0.3649 - categorical_accuracy: 0.8649 - val_loss: 0.4242 - val_categorical_accuracy: 0.8535\n"
     ]
    }
   ],
   "source": [
    "hist = model.fit(train_features, train_one_hot_labels, \n",
    "                 valid_data=(test_features, test_one_hot_labels),\n",
    "                 n_epochs=3)"
   ]
  },
  {
   "cell_type": "markdown",
   "metadata": {},
   "source": [
    "## Evaluting the model\n",
    "One we have have trained the model, we need to evalute how when its doing. We will use the `categorical_accuracy` metric as a yard stick of evaluating how the model is doing \n"
   ]
  },
  {
   "cell_type": "code",
   "execution_count": 35,
   "metadata": {},
   "outputs": [
    {
     "name": "stdout",
     "output_type": "stream",
     "text": [
      "The model is 85.35000000000001% accurate\n"
     ]
    }
   ],
   "source": [
    "predictions = model.predict(test_features)\n",
    "accuracy = accuracy_score(predictions, test_labels)\n",
    "print(f\"The model is {accuracy * 100.0}% accurate\")"
   ]
  },
  {
   "cell_type": "markdown",
   "metadata": {},
   "source": [
    "## Hyperparmeter Tuning\n",
    "Now we make changes to the hyperparameters of models and evalute (Hyperparameter tuning).\n",
    "And then do it again (iterating), trying to get models with higher accuracy.\n",
    "\n",
    "Lets try using more layers:"
   ]
  },
  {
   "cell_type": "code",
   "execution_count": 45,
   "metadata": {},
   "outputs": [
    {
     "name": "stdout",
     "output_type": "stream",
     "text": [
      "_________________________________________________________________\n",
      "Layer (type)                 Output Shape              Param #   \n",
      "=================================================================\n",
      "flatten (Flatten)            (None, 784)               0         \n",
      "_________________________________________________________________\n",
      "dense (Dense)                (None, 16)                12560     \n",
      "_________________________________________________________________\n",
      "dense_1 (Dense)              (None, 16)                272       \n",
      "_________________________________________________________________\n",
      "dense_2 (Dense)              (None, 10)                170       \n",
      "=================================================================\n",
      "Total params: 13,002\n",
      "Trainable params: 13,002\n",
      "Non-trainable params: 0\n",
      "_________________________________________________________________\n",
      "Train on 60000 samples, validate on 10000 samples\n",
      "Epoch 1/3\n",
      "60000/60000 [==============================] - 8s 127us/sample - loss: 0.6282 - categorical_accuracy: 0.7871 - val_loss: 0.4507 - val_categorical_accuracy: 0.8402\n",
      "Epoch 2/3\n",
      "60000/60000 [==============================] - 8s 130us/sample - loss: 0.3994 - categorical_accuracy: 0.8556 - val_loss: 0.4229 - val_categorical_accuracy: 0.8474\n",
      "Epoch 3/3\n",
      "60000/60000 [==============================] - 8s 131us/sample - loss: 0.3671 - categorical_accuracy: 0.8665 - val_loss: 0.4234 - val_categorical_accuracy: 0.8486\n",
      "The model is 84.86% accurate\n"
     ]
    }
   ],
   "source": [
    "model = NNModel(n_layers=2,\n",
    "                n_units=16, \n",
    "                conv_blocks=0,\n",
    "                conv_scale=12,\n",
    "                learning_rate=1e-3,\n",
    "                display_summary=True)\n",
    "                \n",
    "hist = model.fit(train_features, train_one_hot_labels, \n",
    "                 valid_data=(test_features, test_one_hot_labels),\n",
    "                 batch_size=64,\n",
    "                 n_epochs=3)\n",
    "\n",
    "predictions = model.predict(test_features)\n",
    "accuracy = accuracy_score(predictions, test_labels)\n",
    "print(f\"The model is {accuracy * 100.0}% accurate\")"
   ]
  },
  {
   "cell_type": "markdown",
   "metadata": {},
   "source": [
    "Hmm doesn't really help how about some more units?"
   ]
  },
  {
   "cell_type": "code",
   "execution_count": 48,
   "metadata": {},
   "outputs": [
    {
     "name": "stdout",
     "output_type": "stream",
     "text": [
      "_________________________________________________________________\n",
      "Layer (type)                 Output Shape              Param #   \n",
      "=================================================================\n",
      "flatten (Flatten)            (None, 784)               0         \n",
      "_________________________________________________________________\n",
      "dense (Dense)                (None, 64)                50240     \n",
      "_________________________________________________________________\n",
      "dense_1 (Dense)              (None, 10)                650       \n",
      "=================================================================\n",
      "Total params: 50,890\n",
      "Trainable params: 50,890\n",
      "Non-trainable params: 0\n",
      "_________________________________________________________________\n",
      "Train on 60000 samples, validate on 10000 samples\n",
      "Epoch 1/3\n",
      "60000/60000 [==============================] - 8s 128us/sample - loss: 0.4934 - categorical_accuracy: 0.8263 - val_loss: 0.4181 - val_categorical_accuracy: 0.8474\n",
      "Epoch 2/3\n",
      "60000/60000 [==============================] - 7s 124us/sample - loss: 0.3506 - categorical_accuracy: 0.8712 - val_loss: 0.3875 - val_categorical_accuracy: 0.8612\n",
      "Epoch 3/3\n",
      "60000/60000 [==============================] - 7s 122us/sample - loss: 0.3102 - categorical_accuracy: 0.8847 - val_loss: 0.3829 - val_categorical_accuracy: 0.8611\n",
      "The model is 86.11% accurate\n"
     ]
    }
   ],
   "source": [
    "model = NNModel(n_layers=1,\n",
    "                n_units=64, \n",
    "                conv_blocks=0,\n",
    "                conv_scale=12,\n",
    "                learning_rate=1e-3,\n",
    "                display_summary=True)\n",
    "                \n",
    "hist = model.fit(train_features, train_one_hot_labels, \n",
    "                 valid_data=(test_features, test_one_hot_labels),\n",
    "                 batch_size=64,\n",
    "                 n_epochs=3)\n",
    "\n",
    "predictions = model.predict(test_features)\n",
    "accuracy = accuracy_score(predictions, test_labels)\n",
    "print(f\"The model is {accuracy * 100.0}% accurate\")"
   ]
  },
  {
   "cell_type": "markdown",
   "metadata": {},
   "source": [
    "How about we add some convolution layers?"
   ]
  },
  {
   "cell_type": "code",
   "execution_count": 49,
   "metadata": {},
   "outputs": [
    {
     "name": "stdout",
     "output_type": "stream",
     "text": [
      "_________________________________________________________________\n",
      "Layer (type)                 Output Shape              Param #   \n",
      "=================================================================\n",
      "conv2d (Conv2D)              (None, 28, 28, 24)        240       \n",
      "_________________________________________________________________\n",
      "conv2d_1 (Conv2D)            (None, 28, 28, 24)        5208      \n",
      "_________________________________________________________________\n",
      "conv2d_2 (Conv2D)            (None, 14, 14, 24)        5208      \n",
      "_________________________________________________________________\n",
      "batch_normalization_v1 (Batc (None, 14, 14, 24)        96        \n",
      "_________________________________________________________________\n",
      "dropout (Dropout)            (None, 14, 14, 24)        0         \n",
      "_________________________________________________________________\n",
      "flatten (Flatten)            (None, 4704)              0         \n",
      "_________________________________________________________________\n",
      "dense (Dense)                (None, 64)                301120    \n",
      "_________________________________________________________________\n",
      "dense_1 (Dense)              (None, 10)                650       \n",
      "=================================================================\n",
      "Total params: 312,522\n",
      "Trainable params: 312,474\n",
      "Non-trainable params: 48\n",
      "_________________________________________________________________\n",
      "Train on 60000 samples, validate on 10000 samples\n",
      "Epoch 1/3\n",
      "60000/60000 [==============================] - 16s 266us/sample - loss: 0.4197 - categorical_accuracy: 0.8488 - val_loss: 0.3181 - val_categorical_accuracy: 0.8833\n",
      "Epoch 2/3\n",
      "60000/60000 [==============================] - 17s 280us/sample - loss: 0.2646 - categorical_accuracy: 0.9020 - val_loss: 0.2988 - val_categorical_accuracy: 0.8956\n",
      "Epoch 3/3\n",
      "60000/60000 [==============================] - 16s 274us/sample - loss: 0.2137 - categorical_accuracy: 0.9187 - val_loss: 0.2839 - val_categorical_accuracy: 0.9005\n",
      "The model is 90.05% accurate\n"
     ]
    }
   ],
   "source": [
    "model = NNModel(n_layers=1,\n",
    "                n_units=64, \n",
    "                conv_blocks=1,\n",
    "                conv_scale=12,\n",
    "                learning_rate=1e-3,\n",
    "                display_summary=True)\n",
    "                \n",
    "hist = model.fit(train_features, train_one_hot_labels, \n",
    "                 valid_data=(test_features, test_one_hot_labels),\n",
    "                 batch_size=64,\n",
    "                 n_epochs=3)\n",
    "\n",
    "predictions = model.predict(test_features)\n",
    "accuracy = accuracy_score(predictions, test_labels)\n",
    "print(f\"The model is {accuracy * 100.0}% accurate\")"
   ]
  },
  {
   "cell_type": "markdown",
   "metadata": {},
   "source": [
    "Convolution layers gave us ~4% accuracy increase!"
   ]
  },
  {
   "cell_type": "markdown",
   "metadata": {},
   "source": [
    "Since we are on a time limit today thats all that we will will try. But i suggest that you try other values.\n",
    "\n",
    ">Neural Networks are able scale to large amount of data, but require large amount of computing resources use effectively"
   ]
  },
  {
   "cell_type": "code",
   "execution_count": null,
   "metadata": {},
   "outputs": [],
   "source": []
  }
 ],
 "metadata": {
  "kernelspec": {
   "display_name": "Python 3",
   "language": "python",
   "name": "python3"
  },
  "language_info": {
   "codemirror_mode": {
    "name": "ipython",
    "version": 3
   },
   "file_extension": ".py",
   "mimetype": "text/x-python",
   "name": "python",
   "nbconvert_exporter": "python",
   "pygments_lexer": "ipython3",
   "version": "3.6.7"
  }
 },
 "nbformat": 4,
 "nbformat_minor": 2
}
