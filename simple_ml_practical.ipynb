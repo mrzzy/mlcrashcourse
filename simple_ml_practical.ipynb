{
 "cells": [
  {
   "cell_type": "markdown",
   "metadata": {},
   "source": [
    "# General ML Crash Course\n",
    "Notebook written by Ze Ming :l and Joel\n",
    "\n",
    "By the end of this notebook, you will be able to:\n",
    "1. Participate and make submissions in Kaggle competitions\n",
    "2. Explain the difference between supervised and unsupervised problems\n",
    "3. Create a machine learning model by fitting data into a model provided by scikit.\n",
    "\n",
    "In this notebook, we will be using the Boston housing problem on [Kaggle](https://www.kaggle.com/c/boston-housing/overview) as an example."
   ]
  },
  {
   "cell_type": "markdown",
   "metadata": {},
   "source": [
    "## Imports"
   ]
  },
  {
   "cell_type": "code",
   "execution_count": null,
   "metadata": {},
   "outputs": [],
   "source": [
    "%matplotlib inline\n",
    "%load_ext autoreload\n",
    "%autoreload 2\n",
    "\n",
    "import numpy as np\n",
    "import pandas as pd\n",
    "import matplotlib.pyplot as plt\n",
    "\n",
    "from sklearn.ensemble import RandomForestRegressor\n",
    "from sklearn.model_selection import train_test_split\n",
    "from sklearn.svm import SVR\n",
    "\n",
    "\n",
    "from sklearn.metrics import mean_squared_error, mean_absolute_error\n",
    "from math import sqrt\n"
   ]
  },
  {
   "cell_type": "markdown",
   "metadata": {},
   "source": [
    "## Defining the problem\n",
    "**Sign up and download the data here: https://www.kaggle.com/c/boston-housing/data**\n",
    "\n",
    "The zip archive contains three files:\n",
    "\n",
    "- train.csv\n",
    "- test.csv\n",
    "- submission_example.csv\n",
    "\n",
    "`train.csv` is the dataset which you use to teach your machine learning model.\n",
    "\n",
    "`test.csv` contains tests which Kaggle uses to assess your model."
   ]
  },
  {
   "cell_type": "code",
   "execution_count": null,
   "metadata": {
    "ExecuteTime": {
     "end_time": "2019-05-08T10:04:30.663423Z",
     "start_time": "2019-05-08T10:04:30.516262Z"
    }
   },
   "outputs": [],
   "source": [
    "#TODO: Load the training data and test data into pandas = 2 lines\n"
   ]
  },
  {
   "cell_type": "markdown",
   "metadata": {},
   "source": [
    "#### Distinguishing supervised and unsupervised problems\n",
    "\n",
    "A *supervised problem* is the problem of finding a relationship between two data sets where one data set is the input, and the other is the expected output.\n",
    "\n",
    "In this case, we are finding the relationship between:\n",
    "- (Input) some information about the town in Boston\n",
    "- (Expected Output) price of a house in that town\n",
    "\n",
    "\n",
    "An *unsupervised problem* is the problem of finding a certain pattern in a data set. The key difference is that there is no expected output."
   ]
  },
  {
   "cell_type": "code",
   "execution_count": null,
   "metadata": {},
   "outputs": [],
   "source": [
    "train_df.head()"
   ]
  },
  {
   "cell_type": "markdown",
   "metadata": {},
   "source": [
    "In this problem, the task is to predict `medv` giventhe rest of the columns `crim`, `zn`, ... etc.\n",
    "Since there is an expected value that we are trying to predict (`medv`)\n",
    "\n",
    "As such test data is missing `medv` because that what we have to predict"
   ]
  },
  {
   "cell_type": "code",
   "execution_count": null,
   "metadata": {},
   "outputs": [],
   "source": [
    "test_df.head()"
   ]
  },
  {
   "cell_type": "markdown",
   "metadata": {
    "ExecuteTime": {
     "end_time": "2019-05-07T12:18:13.676118Z",
     "start_time": "2019-05-07T12:18:13.673109Z"
    }
   },
   "source": [
    "## Preparing the data\n",
    "First we split the training data into inputs and expected outputs `medv`"
   ]
  },
  {
   "cell_type": "code",
   "execution_count": null,
   "metadata": {
    "ExecuteTime": {
     "end_time": "2019-05-07T12:17:53.014137Z",
     "start_time": "2019-05-07T12:17:53.003169Z"
    }
   },
   "outputs": [],
   "source": [
    "# Extract everything else for use by the model to try to predict medv\n",
    "X = train_df.iloc[:, :-1]\n",
    "\n",
    "# Extract the prediction target medv\n",
    "Y = train_df['medv']"
   ]
  },
  {
   "cell_type": "markdown",
   "metadata": {},
   "source": [
    "#### Splitting the data for later validation\n",
    "\n",
    "It would be good to be able to tell the accuracy of our model after training it. So, we split the given dataset (`train.csv`) into two: one for training and the other for validation.\n",
    "\n",
    "We dont use the training data to test the model because we have already given the training data answers to the model when training the model. The only reliable test of whether actually learnt from the data is to test the model on data it has never seen before \n",
    "\n",
    "> Remember to shuffle when doing the spltting or bad things may happen...\n"
   ]
  },
  {
   "cell_type": "code",
   "execution_count": null,
   "metadata": {
    "ExecuteTime": {
     "end_time": "2019-05-07T12:17:53.254020Z",
     "start_time": "2019-05-07T12:17:53.247010Z"
    }
   },
   "outputs": [],
   "source": [
    "# TODO: Split the data, with 30% of the data as test data using scikit-learn's train_test_split() = 1 line\n"
   ]
  },
  {
   "cell_type": "markdown",
   "metadata": {},
   "source": [
    "## Training the Model\n",
    "Now we proceed with training a model the training on the data.\n",
    "\n",
    "#### Scikit-learn machine learning library\n",
    "The scikit-learn machine library contains many machine learning algorithms, and many utilities to assist with machine learning\n",
    "\n",
    "Scikit-learn is also very useful because most models are used in the same way: \n",
    "- `.fit()` - train the model on the given data\n",
    "- `.predict()`- predict values using the model\n",
    "\n",
    "> So any time you find yourself wanting to try another type of algorithm for your dataset, just swap it out and it should work fine.\n",
    "\n",
    "For example, you can swap model `RandomForestRegressor` wit `SVR`, both should still work. "
   ]
  },
  {
   "cell_type": "code",
   "execution_count": null,
   "metadata": {
    "ExecuteTime": {
     "end_time": "2019-05-07T12:17:53.504865Z",
     "start_time": "2019-05-07T12:17:53.483920Z"
    }
   },
   "outputs": [],
   "source": [
    "# create a new model\n",
    "model = RandomForestRegressor()\n",
    "# model = SVR(C=1e+2, gamma=3e-3)\n",
    "\n",
    "# TODO:Train the model (=1 line)"
   ]
  },
  {
   "cell_type": "markdown",
   "metadata": {},
   "source": [
    "## Evaluating the model\n",
    "We now see how well the model learnt from the data by evaluating its predictions on a _metric_:\n",
    "\n",
    "We will be using **RMSE** and **R2** evaluation metrics"
   ]
  },
  {
   "cell_type": "code",
   "execution_count": null,
   "metadata": {
    "ExecuteTime": {
     "end_time": "2019-05-07T12:17:55.420927Z",
     "start_time": "2019-05-07T12:17:55.411922Z"
    }
   },
   "outputs": [],
   "source": [
    "#TODO: get predictions from model (=1 line)\n",
    "\n",
    "# Evalute model on RMSE\n",
    "print(\"RMSE:\", sqrt(mean_squared_error(Y_valid, Y_predicted)))\n",
    "\n",
    "# Evaluate model based on MAE\n",
    "print(\"R2\", model.score(X_valid, Y_valid))\n"
   ]
  },
  {
   "cell_type": "markdown",
   "metadata": {},
   "source": [
    "The **R2** evaluation metric gives us an idea of how well the model is doing.\n",
    "\n",
    "It typical ranges from -1 to 1 and the closer to 1 you get the better your is."
   ]
  },
  {
   "cell_type": "markdown",
   "metadata": {},
   "source": [
    "## Hyperparameter tuning\n",
    "Now the hard part, tunning the hyperparameters:\n",
    "1. select a value for a hyperparameter\n",
    "2. train a model with that hyperparameter value\n",
    "3. evaluate the model to see if the change improved"
   ]
  },
  {
   "cell_type": "code",
   "execution_count": null,
   "metadata": {},
   "outputs": [],
   "source": [
    "#TODO: try out different values for the hyperparameters: n_estimators, max_depth, max_features\n",
    "model = RandomForestRegressor(n_estimators=,\n",
    "                              max_depth=,\n",
    "                              max_features=)\n",
    "\n",
    "# Train the model\n",
    "model.fit(X_train, Y_train)\n",
    "\n",
    "# evaluate the model based on RMSE\n",
    "Y_predicted = model.predict(X_valid)\n",
    "print(\"RMSE:\", sqrt(mean_squared_error(Y_valid, Y_predicted)))\n",
    "\n",
    "# Evaluate model based on MAE\n",
    "print(\"R2\", model.score(X_valid, Y_valid))"
   ]
  },
  {
   "cell_type": "markdown",
   "metadata": {},
   "source": [
    "## Create the submission CSV file\n",
    "Kaggle provides a `test.csv` file which contains data on towns in Boston but does not contain the price of housing in that town. This is the set of \"questions\" which Kaggle uses to assess your model.\n",
    "\n",
    "Let's do the same process to predict the price of housing in the `test.csv` towns."
   ]
  },
  {
   "cell_type": "code",
   "execution_count": null,
   "metadata": {},
   "outputs": [],
   "source": [
    "X_test = test_df.values"
   ]
  },
  {
   "cell_type": "code",
   "execution_count": null,
   "metadata": {
    "ExecuteTime": {
     "end_time": "2019-05-07T12:17:56.769146Z",
     "start_time": "2019-05-07T12:17:56.765157Z"
    }
   },
   "outputs": [],
   "source": [
    "# Create the dataframe to be used for submission\n",
    "predicted = model.predict(X_test)\n",
    "submission_df = pd.DataFrame({'ID' : test_df['ID'], \"medv\" : predicted})"
   ]
  },
  {
   "cell_type": "markdown",
   "metadata": {},
   "source": [
    "Pandas makes making CSVs very easy :)"
   ]
  },
  {
   "cell_type": "code",
   "execution_count": null,
   "metadata": {
    "ExecuteTime": {
     "end_time": "2019-05-07T12:09:57.580830Z",
     "start_time": "2019-05-07T12:09:57.557891Z"
    }
   },
   "outputs": [],
   "source": [
    "# Write the dataframe into a CSV file\n",
    "submission_df.to_csv('submission.csv', index=False)"
   ]
  },
  {
   "cell_type": "markdown",
   "metadata": {},
   "source": [
    "Now you submit `submission.csv` to the competition and view your score. The lower your score the better since they are using a different method of scoring (RMSE)."
   ]
  }
 ],
 "metadata": {
  "kernelspec": {
   "display_name": "Python 3",
   "language": "python",
   "name": "python3"
  },
  "language_info": {
   "codemirror_mode": {
    "name": "ipython",
    "version": 3
   },
   "file_extension": ".py",
   "mimetype": "text/x-python",
   "name": "python",
   "nbconvert_exporter": "python",
   "pygments_lexer": "ipython3",
   "version": "3.7.3"
  }
 },
 "nbformat": 4,
 "nbformat_minor": 2
}
